{
 "cells": [
  {
   "cell_type": "code",
   "execution_count": 21,
   "id": "8e41f2cd",
   "metadata": {},
   "outputs": [],
   "source": [
    "import pandas as pd"
   ]
  },
  {
   "cell_type": "code",
   "execution_count": 3,
   "id": "650adf20",
   "metadata": {},
   "outputs": [],
   "source": [
    "assign_df = pd.read_csv('assignment_seven.csv')"
   ]
  },
  {
   "cell_type": "code",
   "execution_count": 4,
   "id": "a82c6769",
   "metadata": {},
   "outputs": [],
   "source": [
    "no_name_df = assign_df.drop(columns=['full_name'])"
   ]
  },
  {
   "cell_type": "code",
   "execution_count": 6,
   "id": "91736285",
   "metadata": {},
   "outputs": [
    {
     "name": "stdout",
     "output_type": "stream",
     "text": [
      "     transaction_id transaction_date                             record_id  \\\n",
      "0                 1        7/19/2021  1df9f42a-8c0f-4e3d-aeca-5bd310dd277a   \n",
      "1                 2        9/25/2021  afaf2462-41b1-43dc-8702-264cf2a6ade0   \n",
      "2                 3        10/7/2021  34528325-deb3-4deb-9107-12a89f5d1cfc   \n",
      "3                 4        5/26/2022  6e379186-e61e-4926-ad03-0ac7759d7fab   \n",
      "4                 5       12/17/2021  b0eb4c68-5737-4076-856d-7eacf2e6014d   \n",
      "..              ...              ...                                   ...   \n",
      "995             996        5/26/2022  67a9dcee-3784-482a-9505-2665a7c1cc02   \n",
      "996             997        9/11/2021  7d36bb32-112c-4836-ba3d-6e3bbbbc82d8   \n",
      "997             998       11/25/2021  421ff0bb-919c-4dd8-af59-db9fd3ea3248   \n",
      "998             999        3/11/2022  fe266fd4-c22f-4d3f-a276-74016092df33   \n",
      "999            1000         3/3/2022  ecf09222-1bb5-479c-a5c0-19d0762f340d   \n",
      "\n",
      "                           products  \n",
      "0               TERBUTALINE SULFATE  \n",
      "1                          Fentanyl  \n",
      "2                         Lorazepam  \n",
      "3                       risperidone  \n",
      "4                            Oxygen  \n",
      "..                              ...  \n",
      "995              GANCICLOVIR SODIUM  \n",
      "996                      atovaquone  \n",
      "997          Sour Dock Sheep Sorrel  \n",
      "998                      OCTINOXATE  \n",
      "999  TETRAHYDROZOLINE HYDROCHLORIDE  \n",
      "\n",
      "[1000 rows x 4 columns]\n"
     ]
    }
   ],
   "source": [
    "print(no_name_df)"
   ]
  },
  {
   "cell_type": "code",
   "execution_count": 7,
   "id": "7ed6f116",
   "metadata": {},
   "outputs": [],
   "source": [
    "step_two_df = no_name_df.dropna()"
   ]
  },
  {
   "cell_type": "code",
   "execution_count": 9,
   "id": "5197ce7f",
   "metadata": {},
   "outputs": [
    {
     "name": "stdout",
     "output_type": "stream",
     "text": [
      "    transaction_id transaction_date                             record_id  \\\n",
      "0                1        7/19/2021  1df9f42a-8c0f-4e3d-aeca-5bd310dd277a   \n",
      "1                2        9/25/2021  afaf2462-41b1-43dc-8702-264cf2a6ade0   \n",
      "2                3        10/7/2021  34528325-deb3-4deb-9107-12a89f5d1cfc   \n",
      "3                4        5/26/2022  6e379186-e61e-4926-ad03-0ac7759d7fab   \n",
      "4                5       12/17/2021  b0eb4c68-5737-4076-856d-7eacf2e6014d   \n",
      "5                6        3/20/2022  f38ae908-9a9e-4b1c-bfc0-9fc6a0151877   \n",
      "6                7         5/3/2022  9892091e-babb-4666-9aa6-1bc16585e0fa   \n",
      "7                8        6/27/2021  d8ced839-b6ea-4916-b127-49ad759b5252   \n",
      "8                9         9/9/2021  21bfd80b-8d02-4b67-9a54-ba5dc05e64e1   \n",
      "9               10         3/6/2022  fb657ed1-fad2-44dc-a29a-84683f7766ad   \n",
      "10              11        8/27/2021  d85465fe-da2f-4006-997d-ef619f5fdcf3   \n",
      "12              13         7/2/2021  150e3f33-d658-4ab4-b0f4-627090fde13a   \n",
      "13              14        8/28/2021  ab71e0a9-77fe-49ad-992a-242edd911b6c   \n",
      "14              15        5/10/2022  3e096418-2294-4f4a-bb2a-fe5ec03c74e5   \n",
      "15              16        6/14/2021  32a2f452-0873-45e6-b851-f15db6f462d8   \n",
      "\n",
      "                                     products  \n",
      "0                         TERBUTALINE SULFATE  \n",
      "1                                    Fentanyl  \n",
      "2                                   Lorazepam  \n",
      "3                                 risperidone  \n",
      "4                                      Oxygen  \n",
      "5                                Levofloxacin  \n",
      "6   yellow jacket hymenoptera venom multidose  \n",
      "7       Amoxicillin and Clavulanate Potassium  \n",
      "8                          POTASSIUM CHLORIDE  \n",
      "9                                 Simvastatin  \n",
      "10                                  Triclosan  \n",
      "12      Glipizide and Metformin Hydrochloride  \n",
      "13                Medroxyprogesterone Acetate  \n",
      "14                              Chloroxylenol  \n",
      "15                          Phenylephrine HCl  \n"
     ]
    }
   ],
   "source": [
    "print(step_two_df.head(15))"
   ]
  },
  {
   "cell_type": "code",
   "execution_count": 19,
   "id": "881f541e",
   "metadata": {},
   "outputs": [],
   "source": [
    "step_two_df.to_csv('output.csv')"
   ]
  },
  {
   "cell_type": "code",
   "execution_count": 17,
   "id": "3d6935d6",
   "metadata": {},
   "outputs": [],
   "source": [
    "top_five = step_two_df['products'].value_counts().head(5)"
   ]
  },
  {
   "cell_type": "code",
   "execution_count": 18,
   "id": "65ceac72",
   "metadata": {},
   "outputs": [
    {
     "name": "stdout",
     "output_type": "stream",
     "text": [
      "Acetaminophen       13\n",
      "Ibuprofen           10\n",
      "TITANIUM DIOXIDE    10\n",
      "ALCOHOL              8\n",
      "Salicylic Acid       8\n",
      "Name: products, dtype: int64\n"
     ]
    }
   ],
   "source": [
    "print(top_five)"
   ]
  },
  {
   "cell_type": "code",
   "execution_count": 26,
   "id": "564f221c",
   "metadata": {},
   "outputs": [
    {
     "data": {
      "text/plain": [
       "<AxesSubplot:title={'center':'Top Five Products'}>"
      ]
     },
     "execution_count": 26,
     "metadata": {},
     "output_type": "execute_result"
    },
    {
     "data": {
      "image/png": "[encoded data removed]",
      "text/plain": [
       "<Figure size 432x288 with 1 Axes>"
      ]
     },
     "metadata": {
      "needs_background": "light"
     },
     "output_type": "display_data"
    }
   ],
   "source": [
    "top_five.plot(kind='barh', colormap='summer', title='Top Five Products')"
   ]
  },
  {
   "cell_type": "code",
   "execution_count": null,
   "id": "a5a5df24",
   "metadata": {},
   "outputs": [],
   "source": []
  }
 ],
 "metadata": {
  "kernelspec": {
   "display_name": "Python 3 (ipykernel)",
   "language": "python",
   "name": "python3"
  },
  "language_info": {
   "codemirror_mode": {
    "name": "ipython",
    "version": 3
   },
   "file_extension": ".py",
   "mimetype": "text/x-python",
   "name": "python",
   "nbconvert_exporter": "python",
   "pygments_lexer": "ipython3",
   "version": "3.9.6"
  }
 },
 "nbformat": 4,
 "nbformat_minor": 5
}
